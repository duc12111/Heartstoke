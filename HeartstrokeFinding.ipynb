{
 "cells": [
  {
   "cell_type": "code",
   "execution_count": 1,
   "id": "7f18af43",
   "metadata": {},
   "outputs": [
    {
     "name": "stdout",
     "output_type": "stream",
     "text": [
      "Looking in indexes: https://pypi.org/simple, https://pip.repos.neuron.amazonaws.com\n",
      "Requirement already satisfied: pandas in /home/ec2-user/anaconda3/envs/python3/lib/python3.8/site-packages (1.3.4)\n",
      "Requirement already satisfied: python-dateutil>=2.7.3 in /home/ec2-user/anaconda3/envs/python3/lib/python3.8/site-packages (from pandas) (2.8.2)\n",
      "Requirement already satisfied: pytz>=2017.3 in /home/ec2-user/anaconda3/envs/python3/lib/python3.8/site-packages (from pandas) (2021.3)\n",
      "Requirement already satisfied: numpy>=1.17.3 in /home/ec2-user/anaconda3/envs/python3/lib/python3.8/site-packages (from pandas) (1.20.3)\n",
      "Requirement already satisfied: six>=1.5 in /home/ec2-user/anaconda3/envs/python3/lib/python3.8/site-packages (from python-dateutil>=2.7.3->pandas) (1.16.0)\n",
      "\u001b[33mWARNING: You are using pip version 22.0.4; however, version 22.1.2 is available.\n",
      "You should consider upgrading via the '/home/ec2-user/anaconda3/envs/python3/bin/python -m pip install --upgrade pip' command.\u001b[0m\u001b[33m\n",
      "\u001b[0m"
     ]
    }
   ],
   "source": [
    "!pip install pandas"
   ]
  },
  {
   "cell_type": "code",
   "execution_count": 2,
   "id": "56e61886",
   "metadata": {},
   "outputs": [
    {
     "name": "stdout",
     "output_type": "stream",
     "text": [
      "Looking in indexes: https://pypi.org/simple, https://pip.repos.neuron.amazonaws.com\n",
      "Looking in links: http://h2o-release.s3.amazonaws.com/h2o/latest_stable_Py.html\n",
      "Requirement already satisfied: h2o in /home/ec2-user/anaconda3/envs/python3/lib/python3.8/site-packages (3.36.1.2)\n",
      "Requirement already satisfied: requests in /home/ec2-user/anaconda3/envs/python3/lib/python3.8/site-packages (from h2o) (2.26.0)\n",
      "Requirement already satisfied: tabulate in /home/ec2-user/anaconda3/envs/python3/lib/python3.8/site-packages (from h2o) (0.8.9)\n",
      "Requirement already satisfied: future in /home/ec2-user/anaconda3/envs/python3/lib/python3.8/site-packages (from h2o) (0.18.2)\n",
      "Requirement already satisfied: idna<4,>=2.5 in /home/ec2-user/anaconda3/envs/python3/lib/python3.8/site-packages (from requests->h2o) (3.1)\n",
      "Requirement already satisfied: urllib3<1.27,>=1.21.1 in /home/ec2-user/anaconda3/envs/python3/lib/python3.8/site-packages (from requests->h2o) (1.26.8)\n",
      "Requirement already satisfied: certifi>=2017.4.17 in /home/ec2-user/anaconda3/envs/python3/lib/python3.8/site-packages (from requests->h2o) (2021.10.8)\n",
      "Requirement already satisfied: charset-normalizer~=2.0.0 in /home/ec2-user/anaconda3/envs/python3/lib/python3.8/site-packages (from requests->h2o) (2.0.8)\n",
      "\u001b[33mWARNING: You are using pip version 22.0.4; however, version 22.1.2 is available.\n",
      "You should consider upgrading via the '/home/ec2-user/anaconda3/envs/python3/bin/python -m pip install --upgrade pip' command.\u001b[0m\u001b[33m\n",
      "\u001b[0mNote: you may need to restart the kernel to use updated packages.\n"
     ]
    }
   ],
   "source": [
    "pip install -f http://h2o-release.s3.amazonaws.com/h2o/latest_stable_Py.html h2o"
   ]
  },
  {
   "cell_type": "code",
   "execution_count": 1,
   "id": "19985556",
   "metadata": {},
   "outputs": [],
   "source": [
    "from sklearn.model_selection import train_test_split"
   ]
  },
  {
   "cell_type": "code",
   "execution_count": 2,
   "id": "aceeb031",
   "metadata": {},
   "outputs": [],
   "source": [
    "import pandas as pd\n",
    "\n",
    "df = pd.read_csv(\"s3://science-hackathon-2022-duc-nguyen/train_2v.csv\")"
   ]
  },
  {
   "cell_type": "code",
   "execution_count": 3,
   "id": "e8f9a6b2",
   "metadata": {},
   "outputs": [
    {
     "data": {
      "text/plain": [
       "0    42617\n",
       "1      783\n",
       "Name: stroke, dtype: int64"
      ]
     },
     "execution_count": 3,
     "metadata": {},
     "output_type": "execute_result"
    }
   ],
   "source": [
    "df['stroke'].value_counts() "
   ]
  },
  {
   "cell_type": "code",
   "execution_count": 4,
   "id": "7da54e11",
   "metadata": {},
   "outputs": [
    {
     "data": {
      "text/html": [
       "<div>\n",
       "<style scoped>\n",
       "    .dataframe tbody tr th:only-of-type {\n",
       "        vertical-align: middle;\n",
       "    }\n",
       "\n",
       "    .dataframe tbody tr th {\n",
       "        vertical-align: top;\n",
       "    }\n",
       "\n",
       "    .dataframe thead th {\n",
       "        text-align: right;\n",
       "    }\n",
       "</style>\n",
       "<table border=\"1\" class=\"dataframe\">\n",
       "  <thead>\n",
       "    <tr style=\"text-align: right;\">\n",
       "      <th></th>\n",
       "      <th>id</th>\n",
       "      <th>gender</th>\n",
       "      <th>age</th>\n",
       "      <th>hypertension</th>\n",
       "      <th>heart_disease</th>\n",
       "      <th>ever_married</th>\n",
       "      <th>work_type</th>\n",
       "      <th>Residence_type</th>\n",
       "      <th>avg_glucose_level</th>\n",
       "      <th>bmi</th>\n",
       "      <th>smoking_status</th>\n",
       "      <th>stroke</th>\n",
       "    </tr>\n",
       "  </thead>\n",
       "  <tbody>\n",
       "    <tr>\n",
       "      <th>0</th>\n",
       "      <td>30669</td>\n",
       "      <td>Male</td>\n",
       "      <td>3.0</td>\n",
       "      <td>0</td>\n",
       "      <td>0</td>\n",
       "      <td>No</td>\n",
       "      <td>children</td>\n",
       "      <td>Rural</td>\n",
       "      <td>95.12</td>\n",
       "      <td>18.0</td>\n",
       "      <td>NaN</td>\n",
       "      <td>0</td>\n",
       "    </tr>\n",
       "    <tr>\n",
       "      <th>1</th>\n",
       "      <td>30468</td>\n",
       "      <td>Male</td>\n",
       "      <td>58.0</td>\n",
       "      <td>1</td>\n",
       "      <td>0</td>\n",
       "      <td>Yes</td>\n",
       "      <td>Private</td>\n",
       "      <td>Urban</td>\n",
       "      <td>87.96</td>\n",
       "      <td>39.2</td>\n",
       "      <td>never smoked</td>\n",
       "      <td>0</td>\n",
       "    </tr>\n",
       "    <tr>\n",
       "      <th>2</th>\n",
       "      <td>16523</td>\n",
       "      <td>Female</td>\n",
       "      <td>8.0</td>\n",
       "      <td>0</td>\n",
       "      <td>0</td>\n",
       "      <td>No</td>\n",
       "      <td>Private</td>\n",
       "      <td>Urban</td>\n",
       "      <td>110.89</td>\n",
       "      <td>17.6</td>\n",
       "      <td>NaN</td>\n",
       "      <td>0</td>\n",
       "    </tr>\n",
       "    <tr>\n",
       "      <th>3</th>\n",
       "      <td>56543</td>\n",
       "      <td>Female</td>\n",
       "      <td>70.0</td>\n",
       "      <td>0</td>\n",
       "      <td>0</td>\n",
       "      <td>Yes</td>\n",
       "      <td>Private</td>\n",
       "      <td>Rural</td>\n",
       "      <td>69.04</td>\n",
       "      <td>35.9</td>\n",
       "      <td>formerly smoked</td>\n",
       "      <td>0</td>\n",
       "    </tr>\n",
       "    <tr>\n",
       "      <th>4</th>\n",
       "      <td>46136</td>\n",
       "      <td>Male</td>\n",
       "      <td>14.0</td>\n",
       "      <td>0</td>\n",
       "      <td>0</td>\n",
       "      <td>No</td>\n",
       "      <td>Never_worked</td>\n",
       "      <td>Rural</td>\n",
       "      <td>161.28</td>\n",
       "      <td>19.1</td>\n",
       "      <td>NaN</td>\n",
       "      <td>0</td>\n",
       "    </tr>\n",
       "    <tr>\n",
       "      <th>...</th>\n",
       "      <td>...</td>\n",
       "      <td>...</td>\n",
       "      <td>...</td>\n",
       "      <td>...</td>\n",
       "      <td>...</td>\n",
       "      <td>...</td>\n",
       "      <td>...</td>\n",
       "      <td>...</td>\n",
       "      <td>...</td>\n",
       "      <td>...</td>\n",
       "      <td>...</td>\n",
       "      <td>...</td>\n",
       "    </tr>\n",
       "    <tr>\n",
       "      <th>43395</th>\n",
       "      <td>56196</td>\n",
       "      <td>Female</td>\n",
       "      <td>10.0</td>\n",
       "      <td>0</td>\n",
       "      <td>0</td>\n",
       "      <td>No</td>\n",
       "      <td>children</td>\n",
       "      <td>Urban</td>\n",
       "      <td>58.64</td>\n",
       "      <td>20.4</td>\n",
       "      <td>never smoked</td>\n",
       "      <td>0</td>\n",
       "    </tr>\n",
       "    <tr>\n",
       "      <th>43396</th>\n",
       "      <td>5450</td>\n",
       "      <td>Female</td>\n",
       "      <td>56.0</td>\n",
       "      <td>0</td>\n",
       "      <td>0</td>\n",
       "      <td>Yes</td>\n",
       "      <td>Govt_job</td>\n",
       "      <td>Urban</td>\n",
       "      <td>213.61</td>\n",
       "      <td>55.4</td>\n",
       "      <td>formerly smoked</td>\n",
       "      <td>0</td>\n",
       "    </tr>\n",
       "    <tr>\n",
       "      <th>43397</th>\n",
       "      <td>28375</td>\n",
       "      <td>Female</td>\n",
       "      <td>82.0</td>\n",
       "      <td>1</td>\n",
       "      <td>0</td>\n",
       "      <td>Yes</td>\n",
       "      <td>Private</td>\n",
       "      <td>Urban</td>\n",
       "      <td>91.94</td>\n",
       "      <td>28.9</td>\n",
       "      <td>formerly smoked</td>\n",
       "      <td>0</td>\n",
       "    </tr>\n",
       "    <tr>\n",
       "      <th>43398</th>\n",
       "      <td>27973</td>\n",
       "      <td>Male</td>\n",
       "      <td>40.0</td>\n",
       "      <td>0</td>\n",
       "      <td>0</td>\n",
       "      <td>Yes</td>\n",
       "      <td>Private</td>\n",
       "      <td>Urban</td>\n",
       "      <td>99.16</td>\n",
       "      <td>33.2</td>\n",
       "      <td>never smoked</td>\n",
       "      <td>0</td>\n",
       "    </tr>\n",
       "    <tr>\n",
       "      <th>43399</th>\n",
       "      <td>36271</td>\n",
       "      <td>Female</td>\n",
       "      <td>82.0</td>\n",
       "      <td>0</td>\n",
       "      <td>0</td>\n",
       "      <td>Yes</td>\n",
       "      <td>Private</td>\n",
       "      <td>Urban</td>\n",
       "      <td>79.48</td>\n",
       "      <td>20.6</td>\n",
       "      <td>never smoked</td>\n",
       "      <td>0</td>\n",
       "    </tr>\n",
       "  </tbody>\n",
       "</table>\n",
       "<p>43400 rows × 12 columns</p>\n",
       "</div>"
      ],
      "text/plain": [
       "          id  gender   age  hypertension  heart_disease ever_married  \\\n",
       "0      30669    Male   3.0             0              0           No   \n",
       "1      30468    Male  58.0             1              0          Yes   \n",
       "2      16523  Female   8.0             0              0           No   \n",
       "3      56543  Female  70.0             0              0          Yes   \n",
       "4      46136    Male  14.0             0              0           No   \n",
       "...      ...     ...   ...           ...            ...          ...   \n",
       "43395  56196  Female  10.0             0              0           No   \n",
       "43396   5450  Female  56.0             0              0          Yes   \n",
       "43397  28375  Female  82.0             1              0          Yes   \n",
       "43398  27973    Male  40.0             0              0          Yes   \n",
       "43399  36271  Female  82.0             0              0          Yes   \n",
       "\n",
       "          work_type Residence_type  avg_glucose_level   bmi   smoking_status  \\\n",
       "0          children          Rural              95.12  18.0              NaN   \n",
       "1           Private          Urban              87.96  39.2     never smoked   \n",
       "2           Private          Urban             110.89  17.6              NaN   \n",
       "3           Private          Rural              69.04  35.9  formerly smoked   \n",
       "4      Never_worked          Rural             161.28  19.1              NaN   \n",
       "...             ...            ...                ...   ...              ...   \n",
       "43395      children          Urban              58.64  20.4     never smoked   \n",
       "43396      Govt_job          Urban             213.61  55.4  formerly smoked   \n",
       "43397       Private          Urban              91.94  28.9  formerly smoked   \n",
       "43398       Private          Urban              99.16  33.2     never smoked   \n",
       "43399       Private          Urban              79.48  20.6     never smoked   \n",
       "\n",
       "       stroke  \n",
       "0           0  \n",
       "1           0  \n",
       "2           0  \n",
       "3           0  \n",
       "4           0  \n",
       "...       ...  \n",
       "43395       0  \n",
       "43396       0  \n",
       "43397       0  \n",
       "43398       0  \n",
       "43399       0  \n",
       "\n",
       "[43400 rows x 12 columns]"
      ]
     },
     "execution_count": 4,
     "metadata": {},
     "output_type": "execute_result"
    }
   ],
   "source": [
    "df"
   ]
  },
  {
   "cell_type": "code",
   "execution_count": 5,
   "id": "7d9c9785",
   "metadata": {},
   "outputs": [
    {
     "data": {
      "text/plain": [
       "Private          24834\n",
       "Self-employed     6793\n",
       "children          6156\n",
       "Govt_job          5440\n",
       "Never_worked       177\n",
       "Name: work_type, dtype: int64"
      ]
     },
     "execution_count": 5,
     "metadata": {},
     "output_type": "execute_result"
    }
   ],
   "source": [
    "df['work_type'].value_counts()"
   ]
  },
  {
   "cell_type": "code",
   "execution_count": 1,
   "id": "e02555ac",
   "metadata": {},
   "outputs": [
    {
     "name": "stdout",
     "output_type": "stream",
     "text": [
      "Checking whether there is an H2O instance running at http://localhost:54321 . connected.\n"
     ]
    },
    {
     "data": {
      "text/html": [
       "<div style=\"overflow:auto\"><table style=\"width:50%\"><tr><td>H2O_cluster_uptime:</td>\n",
       "<td>7 mins 57 secs</td></tr>\n",
       "<tr><td>H2O_cluster_timezone:</td>\n",
       "<td>UTC</td></tr>\n",
       "<tr><td>H2O_data_parsing_timezone:</td>\n",
       "<td>UTC</td></tr>\n",
       "<tr><td>H2O_cluster_version:</td>\n",
       "<td>3.36.1.2</td></tr>\n",
       "<tr><td>H2O_cluster_version_age:</td>\n",
       "<td>30 days </td></tr>\n",
       "<tr><td>H2O_cluster_name:</td>\n",
       "<td>H2O_from_python_ec2_user_jn0mhk</td></tr>\n",
       "<tr><td>H2O_cluster_total_nodes:</td>\n",
       "<td>1</td></tr>\n",
       "<tr><td>H2O_cluster_free_memory:</td>\n",
       "<td>771 Mb</td></tr>\n",
       "<tr><td>H2O_cluster_total_cores:</td>\n",
       "<td>2</td></tr>\n",
       "<tr><td>H2O_cluster_allowed_cores:</td>\n",
       "<td>2</td></tr>\n",
       "<tr><td>H2O_cluster_status:</td>\n",
       "<td>locked, healthy</td></tr>\n",
       "<tr><td>H2O_connection_url:</td>\n",
       "<td>http://localhost:54321</td></tr>\n",
       "<tr><td>H2O_connection_proxy:</td>\n",
       "<td>{\"http\": null, \"https\": null}</td></tr>\n",
       "<tr><td>H2O_internal_security:</td>\n",
       "<td>False</td></tr>\n",
       "<tr><td>Python_version:</td>\n",
       "<td>3.8.12 final</td></tr></table></div>"
      ],
      "text/plain": [
       "--------------------------  -------------------------------\n",
       "H2O_cluster_uptime:         7 mins 57 secs\n",
       "H2O_cluster_timezone:       UTC\n",
       "H2O_data_parsing_timezone:  UTC\n",
       "H2O_cluster_version:        3.36.1.2\n",
       "H2O_cluster_version_age:    30 days\n",
       "H2O_cluster_name:           H2O_from_python_ec2_user_jn0mhk\n",
       "H2O_cluster_total_nodes:    1\n",
       "H2O_cluster_free_memory:    771 Mb\n",
       "H2O_cluster_total_cores:    2\n",
       "H2O_cluster_allowed_cores:  2\n",
       "H2O_cluster_status:         locked, healthy\n",
       "H2O_connection_url:         http://localhost:54321\n",
       "H2O_connection_proxy:       {\"http\": null, \"https\": null}\n",
       "H2O_internal_security:      False\n",
       "Python_version:             3.8.12 final\n",
       "--------------------------  -------------------------------"
      ]
     },
     "metadata": {},
     "output_type": "display_data"
    },
    {
     "name": "stdout",
     "output_type": "stream",
     "text": [
      "Parse progress: |████████████████████████████████████████████████████████████████| (done) 100%\n",
      "AutoML progress: |███████████████████████████████████████████████████████████████| (done) 100%\n"
     ]
    },
    {
     "data": {
      "text/html": [
       "<table>\n",
       "<thead>\n",
       "<tr><th>model_id                               </th><th style=\"text-align: right;\">    aucpr</th><th style=\"text-align: right;\">     auc</th><th style=\"text-align: right;\">  logloss</th><th style=\"text-align: right;\">  mean_per_class_error</th><th style=\"text-align: right;\">    rmse</th><th style=\"text-align: right;\">      mse</th></tr>\n",
       "</thead>\n",
       "<tbody>\n",
       "<tr><td>GBM_5_AutoML_2_20220625_173102         </td><td style=\"text-align: right;\">0.0924703</td><td style=\"text-align: right;\">0.845686</td><td style=\"text-align: right;\">0.0762736</td><td style=\"text-align: right;\">              0.356395</td><td style=\"text-align: right;\">0.130528</td><td style=\"text-align: right;\">0.0170375</td></tr>\n",
       "<tr><td>GBM_2_AutoML_2_20220625_173102         </td><td style=\"text-align: right;\">0.090107 </td><td style=\"text-align: right;\">0.837554</td><td style=\"text-align: right;\">0.0785719</td><td style=\"text-align: right;\">              0.393705</td><td style=\"text-align: right;\">0.130937</td><td style=\"text-align: right;\">0.0171445</td></tr>\n",
       "<tr><td>GBM_1_AutoML_2_20220625_173102         </td><td style=\"text-align: right;\">0.0895469</td><td style=\"text-align: right;\">0.83718 </td><td style=\"text-align: right;\">0.0822016</td><td style=\"text-align: right;\">              0.382694</td><td style=\"text-align: right;\">0.1315  </td><td style=\"text-align: right;\">0.0172923</td></tr>\n",
       "<tr><td>GLM_1_AutoML_2_20220625_173102         </td><td style=\"text-align: right;\">0.0836616</td><td style=\"text-align: right;\">0.850757</td><td style=\"text-align: right;\">0.0744423</td><td style=\"text-align: right;\">              0.333709</td><td style=\"text-align: right;\">0.130339</td><td style=\"text-align: right;\">0.0169883</td></tr>\n",
       "<tr><td>XRT_1_AutoML_2_20220625_173102         </td><td style=\"text-align: right;\">0.0785876</td><td style=\"text-align: right;\">0.835737</td><td style=\"text-align: right;\">0.0921992</td><td style=\"text-align: right;\">              0.401537</td><td style=\"text-align: right;\">0.132979</td><td style=\"text-align: right;\">0.0176835</td></tr>\n",
       "<tr><td>GBM_3_AutoML_2_20220625_173102         </td><td style=\"text-align: right;\">0.0761963</td><td style=\"text-align: right;\">0.825213</td><td style=\"text-align: right;\">0.0811521</td><td style=\"text-align: right;\">              0.390585</td><td style=\"text-align: right;\">0.131452</td><td style=\"text-align: right;\">0.0172796</td></tr>\n",
       "<tr><td>GBM_4_AutoML_2_20220625_173102         </td><td style=\"text-align: right;\">0.0718198</td><td style=\"text-align: right;\">0.817807</td><td style=\"text-align: right;\">0.0858251</td><td style=\"text-align: right;\">              0.350339</td><td style=\"text-align: right;\">0.132112</td><td style=\"text-align: right;\">0.0174537</td></tr>\n",
       "<tr><td>DeepLearning_1_AutoML_2_20220625_173102</td><td style=\"text-align: right;\">0.0661231</td><td style=\"text-align: right;\">0.825966</td><td style=\"text-align: right;\">0.0783862</td><td style=\"text-align: right;\">              0.331149</td><td style=\"text-align: right;\">0.131468</td><td style=\"text-align: right;\">0.0172839</td></tr>\n",
       "<tr><td>XGBoost_1_AutoML_2_20220625_173102     </td><td style=\"text-align: right;\">0.0658629</td><td style=\"text-align: right;\">0.795778</td><td style=\"text-align: right;\">0.116098 </td><td style=\"text-align: right;\">              0.417953</td><td style=\"text-align: right;\">0.168336</td><td style=\"text-align: right;\">0.0283371</td></tr>\n",
       "<tr><td>XGBoost_3_AutoML_2_20220625_173102     </td><td style=\"text-align: right;\">0.0635095</td><td style=\"text-align: right;\">0.781511</td><td style=\"text-align: right;\">0.126929 </td><td style=\"text-align: right;\">              0.432541</td><td style=\"text-align: right;\">0.171993</td><td style=\"text-align: right;\">0.0295815</td></tr>\n",
       "<tr><td>DRF_1_AutoML_2_20220625_173102         </td><td style=\"text-align: right;\">0.0632376</td><td style=\"text-align: right;\">0.768461</td><td style=\"text-align: right;\">0.168623 </td><td style=\"text-align: right;\">              0.414369</td><td style=\"text-align: right;\">0.133663</td><td style=\"text-align: right;\">0.0178658</td></tr>\n",
       "<tr><td>XGBoost_2_AutoML_2_20220625_173102     </td><td style=\"text-align: right;\">0.062034 </td><td style=\"text-align: right;\">0.782882</td><td style=\"text-align: right;\">0.117169 </td><td style=\"text-align: right;\">              0.366364</td><td style=\"text-align: right;\">0.164327</td><td style=\"text-align: right;\">0.0270034</td></tr>\n",
       "</tbody>\n",
       "</table>"
      ]
     },
     "metadata": {},
     "output_type": "display_data"
    },
    {
     "data": {
      "text/plain": []
     },
     "execution_count": 1,
     "metadata": {},
     "output_type": "execute_result"
    }
   ],
   "source": [
    "import h2o\n",
    "from h2o.automl import H2OAutoML\n",
    "\n",
    "\n",
    "# Start the H2O cluster (locally)\n",
    "h2o.init()\n",
    "\n",
    "# Import a sample binary outcome train/test set into H2O\n",
    "data = h2o.import_file(\"s3://science-hackathon-2022-duc-nguyen/train_2v.csv\")\n",
    "train, test = data.split_frame(ratios=[0.8])\n",
    "\n",
    "# Identify predictors and response\n",
    "x = train.columns\n",
    "y = \"stroke\"\n",
    "x.remove(y)\n",
    "x.remove(\"id\")\n",
    "\n",
    "# For binary classification, response should be a factor\n",
    "train[y] = train[y].asfactor()\n",
    "\n",
    "# Run AutoML for 20 base models\n",
    "aml = H2OAutoML(max_models=300,max_runtime_secs=1000, seed=2022,balance_classes=True, max_after_balance_size=100, sort_metric = \"aucpr\")\n",
    "aml.train(x=x, y=y, training_frame=train)\n",
    "\n",
    "# View the AutoML Leaderboard\n",
    "lb = aml.leaderboard\n",
    "lb.head(rows=lb.nrows) \n"
   ]
  },
  {
   "cell_type": "code",
   "execution_count": 2,
   "id": "bd10b46e",
   "metadata": {},
   "outputs": [
    {
     "data": {
      "text/html": [
       "<table>\n",
       "<thead>\n",
       "<tr><th>model_id                               </th><th style=\"text-align: right;\">    aucpr</th><th style=\"text-align: right;\">     auc</th><th style=\"text-align: right;\">  logloss</th><th style=\"text-align: right;\">  mean_per_class_error</th><th style=\"text-align: right;\">    rmse</th><th style=\"text-align: right;\">      mse</th><th style=\"text-align: right;\">  training_time_ms</th><th style=\"text-align: right;\">  predict_time_per_row_ms</th><th>algo        </th></tr>\n",
       "</thead>\n",
       "<tbody>\n",
       "<tr><td>GBM_5_AutoML_2_20220625_173102         </td><td style=\"text-align: right;\">0.0924703</td><td style=\"text-align: right;\">0.845686</td><td style=\"text-align: right;\">0.0762736</td><td style=\"text-align: right;\">              0.356395</td><td style=\"text-align: right;\">0.130528</td><td style=\"text-align: right;\">0.0170375</td><td style=\"text-align: right;\">              1537</td><td style=\"text-align: right;\">                 0.017361</td><td>GBM         </td></tr>\n",
       "<tr><td>GBM_2_AutoML_2_20220625_173102         </td><td style=\"text-align: right;\">0.090107 </td><td style=\"text-align: right;\">0.837554</td><td style=\"text-align: right;\">0.0785719</td><td style=\"text-align: right;\">              0.393705</td><td style=\"text-align: right;\">0.130937</td><td style=\"text-align: right;\">0.0171445</td><td style=\"text-align: right;\">              2561</td><td style=\"text-align: right;\">                 0.01802 </td><td>GBM         </td></tr>\n",
       "<tr><td>GBM_1_AutoML_2_20220625_173102         </td><td style=\"text-align: right;\">0.0895469</td><td style=\"text-align: right;\">0.83718 </td><td style=\"text-align: right;\">0.0822016</td><td style=\"text-align: right;\">              0.382694</td><td style=\"text-align: right;\">0.1315  </td><td style=\"text-align: right;\">0.0172923</td><td style=\"text-align: right;\">             12853</td><td style=\"text-align: right;\">                 0.016416</td><td>GBM         </td></tr>\n",
       "<tr><td>GLM_1_AutoML_2_20220625_173102         </td><td style=\"text-align: right;\">0.0836616</td><td style=\"text-align: right;\">0.850757</td><td style=\"text-align: right;\">0.0744423</td><td style=\"text-align: right;\">              0.333709</td><td style=\"text-align: right;\">0.130339</td><td style=\"text-align: right;\">0.0169883</td><td style=\"text-align: right;\">              4600</td><td style=\"text-align: right;\">                 0.001373</td><td>GLM         </td></tr>\n",
       "<tr><td>XRT_1_AutoML_2_20220625_173102         </td><td style=\"text-align: right;\">0.0785876</td><td style=\"text-align: right;\">0.835737</td><td style=\"text-align: right;\">0.0921992</td><td style=\"text-align: right;\">              0.401537</td><td style=\"text-align: right;\">0.132979</td><td style=\"text-align: right;\">0.0176835</td><td style=\"text-align: right;\">              4461</td><td style=\"text-align: right;\">                 0.023107</td><td>DRF         </td></tr>\n",
       "<tr><td>GBM_3_AutoML_2_20220625_173102         </td><td style=\"text-align: right;\">0.0761963</td><td style=\"text-align: right;\">0.825213</td><td style=\"text-align: right;\">0.0811521</td><td style=\"text-align: right;\">              0.390585</td><td style=\"text-align: right;\">0.131452</td><td style=\"text-align: right;\">0.0172796</td><td style=\"text-align: right;\">              1510</td><td style=\"text-align: right;\">                 0.015026</td><td>GBM         </td></tr>\n",
       "<tr><td>GBM_4_AutoML_2_20220625_173102         </td><td style=\"text-align: right;\">0.0718198</td><td style=\"text-align: right;\">0.817807</td><td style=\"text-align: right;\">0.0858251</td><td style=\"text-align: right;\">              0.350339</td><td style=\"text-align: right;\">0.132112</td><td style=\"text-align: right;\">0.0174537</td><td style=\"text-align: right;\">              1678</td><td style=\"text-align: right;\">                 0.013916</td><td>GBM         </td></tr>\n",
       "<tr><td>DeepLearning_1_AutoML_2_20220625_173102</td><td style=\"text-align: right;\">0.0661231</td><td style=\"text-align: right;\">0.825966</td><td style=\"text-align: right;\">0.0783862</td><td style=\"text-align: right;\">              0.331149</td><td style=\"text-align: right;\">0.131468</td><td style=\"text-align: right;\">0.0172839</td><td style=\"text-align: right;\">              3702</td><td style=\"text-align: right;\">                 0.005715</td><td>DeepLearning</td></tr>\n",
       "<tr><td>XGBoost_1_AutoML_2_20220625_173102     </td><td style=\"text-align: right;\">0.0658629</td><td style=\"text-align: right;\">0.795778</td><td style=\"text-align: right;\">0.116098 </td><td style=\"text-align: right;\">              0.417953</td><td style=\"text-align: right;\">0.168336</td><td style=\"text-align: right;\">0.0283371</td><td style=\"text-align: right;\">             23291</td><td style=\"text-align: right;\">                 0.008447</td><td>XGBoost     </td></tr>\n",
       "<tr><td>XGBoost_3_AutoML_2_20220625_173102     </td><td style=\"text-align: right;\">0.0635095</td><td style=\"text-align: right;\">0.781511</td><td style=\"text-align: right;\">0.126929 </td><td style=\"text-align: right;\">              0.432541</td><td style=\"text-align: right;\">0.171993</td><td style=\"text-align: right;\">0.0295815</td><td style=\"text-align: right;\">             24195</td><td style=\"text-align: right;\">                 0.015282</td><td>XGBoost     </td></tr>\n",
       "</tbody>\n",
       "</table>"
      ]
     },
     "metadata": {},
     "output_type": "display_data"
    },
    {
     "data": {
      "text/plain": []
     },
     "execution_count": 2,
     "metadata": {},
     "output_type": "execute_result"
    }
   ],
   "source": [
    "lb = h2o.automl.get_leaderboard(aml, extra_columns = \"ALL\")\n",
    "lb"
   ]
  },
  {
   "cell_type": "code",
   "execution_count": 41,
   "id": "4da5cbe2",
   "metadata": {},
   "outputs": [],
   "source": [
    "m = aml.get_best_model(criterion = \"mean_per_class_error\")\n",
    "m = h2o.get_model(\"DeepLearning_1_AutoML_2_20220625_173102\")"
   ]
  },
  {
   "cell_type": "code",
   "execution_count": 42,
   "id": "74e15f5a",
   "metadata": {},
   "outputs": [],
   "source": [
    "# exm = m.explain(test)"
   ]
  },
  {
   "cell_type": "code",
   "execution_count": 43,
   "id": "fb954858",
   "metadata": {},
   "outputs": [
    {
     "name": "stdout",
     "output_type": "stream",
     "text": [
      "deeplearning prediction progress: |██████████████████████████████████████████████| (done) 100%\n"
     ]
    }
   ],
   "source": [
    "preds = m.predict(test)"
   ]
  },
  {
   "cell_type": "code",
   "execution_count": 44,
   "id": "616c463b",
   "metadata": {},
   "outputs": [
    {
     "data": {
      "text/html": [
       "<table>\n",
       "<thead>\n",
       "<tr><th style=\"text-align: right;\">  predict</th><th style=\"text-align: right;\">      p0</th><th style=\"text-align: right;\">         p1</th></tr>\n",
       "</thead>\n",
       "<tbody>\n",
       "<tr><td style=\"text-align: right;\">        1</td><td style=\"text-align: right;\">0.977796</td><td style=\"text-align: right;\">0.022204   </td></tr>\n",
       "<tr><td style=\"text-align: right;\">        0</td><td style=\"text-align: right;\">1       </td><td style=\"text-align: right;\">8.43577e-09</td></tr>\n",
       "<tr><td style=\"text-align: right;\">        0</td><td style=\"text-align: right;\">0.995093</td><td style=\"text-align: right;\">0.00490747 </td></tr>\n",
       "<tr><td style=\"text-align: right;\">        1</td><td style=\"text-align: right;\">0.903512</td><td style=\"text-align: right;\">0.0964881  </td></tr>\n",
       "<tr><td style=\"text-align: right;\">        0</td><td style=\"text-align: right;\">0.999986</td><td style=\"text-align: right;\">1.35057e-05</td></tr>\n",
       "<tr><td style=\"text-align: right;\">        0</td><td style=\"text-align: right;\">0.999965</td><td style=\"text-align: right;\">3.53816e-05</td></tr>\n",
       "<tr><td style=\"text-align: right;\">        0</td><td style=\"text-align: right;\">0.999999</td><td style=\"text-align: right;\">9.015e-07  </td></tr>\n",
       "<tr><td style=\"text-align: right;\">        0</td><td style=\"text-align: right;\">1       </td><td style=\"text-align: right;\">4.72272e-14</td></tr>\n",
       "<tr><td style=\"text-align: right;\">        0</td><td style=\"text-align: right;\">1       </td><td style=\"text-align: right;\">2.23677e-16</td></tr>\n",
       "<tr><td style=\"text-align: right;\">        0</td><td style=\"text-align: right;\">0.999764</td><td style=\"text-align: right;\">0.00023588 </td></tr>\n",
       "</tbody>\n",
       "</table>"
      ]
     },
     "metadata": {},
     "output_type": "display_data"
    },
    {
     "data": {
      "text/plain": []
     },
     "execution_count": 44,
     "metadata": {},
     "output_type": "execute_result"
    }
   ],
   "source": [
    "preds "
   ]
  },
  {
   "cell_type": "code",
   "execution_count": 45,
   "id": "30f61a51",
   "metadata": {},
   "outputs": [],
   "source": [
    "import sklearn.metrics\n",
    "pred2 =  h2o.as_list(preds,use_pandas=True)\n",
    "test2 =h2o.as_list(test,use_pandas=True)\n",
    "y_true = test2['stroke'].to_numpy()\n",
    "y_pred = pred2['predict'].to_numpy()\n",
    "mat = sklearn.metrics.confusion_matrix(y_true, y_pred)"
   ]
  },
  {
   "cell_type": "code",
   "execution_count": 46,
   "id": "84f1e51c",
   "metadata": {},
   "outputs": [
    {
     "data": {
      "text/plain": [
       "array([[6128, 2587],\n",
       "       [  30,  131]])"
      ]
     },
     "execution_count": 46,
     "metadata": {},
     "output_type": "execute_result"
    }
   ],
   "source": [
    "mat"
   ]
  },
  {
   "cell_type": "code",
   "execution_count": 47,
   "id": "4ade22cc",
   "metadata": {},
   "outputs": [
    {
     "data": {
      "text/plain": [
       "0.7584100376661926"
      ]
     },
     "execution_count": 47,
     "metadata": {},
     "output_type": "execute_result"
    }
   ],
   "source": [
    "sklearn.metrics.balanced_accuracy_score(y_true, y_pred)"
   ]
  },
  {
   "cell_type": "code",
   "execution_count": 48,
   "id": "9f151054",
   "metadata": {},
   "outputs": [
    {
     "data": {
      "text/plain": [
       "0.7051599819738621"
      ]
     },
     "execution_count": 48,
     "metadata": {},
     "output_type": "execute_result"
    }
   ],
   "source": [
    "(y_true==y_pred).mean()"
   ]
  },
  {
   "cell_type": "code",
   "execution_count": 49,
   "id": "191e36b3",
   "metadata": {},
   "outputs": [
    {
     "data": {
      "text/plain": [
       "'s3://science-hackathon-2022-duc-nguyen/model_bin/DeepLearning_1_AutoML_2_20220625_173102'"
      ]
     },
     "execution_count": 49,
     "metadata": {},
     "output_type": "execute_result"
    }
   ],
   "source": [
    "h2o.save_model(m,path = \"s3://science-hackathon-2022-duc-nguyen/model_bin\")"
   ]
  },
  {
   "cell_type": "code",
   "execution_count": null,
   "id": "3acf52c2",
   "metadata": {},
   "outputs": [],
   "source": []
  }
 ],
 "metadata": {
  "kernelspec": {
   "display_name": "conda_python3",
   "language": "python",
   "name": "conda_python3"
  },
  "language_info": {
   "codemirror_mode": {
    "name": "ipython",
    "version": 3
   },
   "file_extension": ".py",
   "mimetype": "text/x-python",
   "name": "python",
   "nbconvert_exporter": "python",
   "pygments_lexer": "ipython3",
   "version": "3.8.12"
  }
 },
 "nbformat": 4,
 "nbformat_minor": 5
}
